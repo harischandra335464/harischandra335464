{
  "nbformat": 4,
  "nbformat_minor": 0,
  "metadata": {
    "colab": {
      "provenance": [],
      "include_colab_link": true
    },
    "kernelspec": {
      "name": "python3",
      "display_name": "Python 3"
    },
    "language_info": {
      "name": "python"
    }
  },
  "cells": [
    {
      "cell_type": "markdown",
      "metadata": {
        "id": "view-in-github",
        "colab_type": "text"
      },
      "source": [
        "<a href=\"https://colab.research.google.com/github/harischandra335464/harischandra335464/blob/main/30thJuly_USHoney_Dev.ipynb\" target=\"_parent\"><img src=\"https://colab.research.google.com/assets/colab-badge.svg\" alt=\"Open In Colab\"/></a>"
      ]
    },
    {
      "cell_type": "markdown",
      "source": [
        "#**Hello Everyone 👋**#\n",
        "  # **Hope you all are doing great. This is Dev on this end, and I welcome you all in this session. Let's wait for few minutes, so that your peers can also join. We will be kicking off the session at 7:07 AM**"
      ],
      "metadata": {
        "id": "hY_ONc-Ius_1"
      }
    },
    {
      "cell_type": "markdown",
      "source": [
        "#**Background / Scenario**#\n",
        "\n",
        "\n",
        "**US Honey Case Study**\n",
        "\n",
        "**PREFACE**\n",
        "\n",
        "  **In 2006, global concern was raised over the rapid decline in the honeybee population, an integral component of American honey agriculture. Large numbers of hives were lost to `Colony Collapse Disorder`, a phenomenon of disappearing worker bees causing the remaining hive colony to collapse. Speculation to the cause of this disorder points to hive diseases and pesticides harming the pollinators, though no overall consensus has been reached. The U.S. used to locally produce over half the honey it consumes per year. Now, honey mostly comes from overseas, with 350 of the 400 million pounds of honey consumed every year originating from imports. This dataset provides insight into honey production supply and demand in America from 1998 to 2021.**\n"
      ],
      "metadata": {
        "id": "xAbq5kth7aFX"
      }
    },
    {
      "cell_type": "markdown",
      "source": [
        "#**OBJECTIVE**#\n",
        "\n",
        "****Visualize how the honey production is changed over the year (1998 - 2021) in US****"
      ],
      "metadata": {
        "id": "lnMQYhno8M-q"
      }
    },
    {
      "cell_type": "markdown",
      "source": [
        "#**QUESTION**#\n",
        "\n",
        "**How has honey production yield changed from 1998 to 2016?**\n",
        "\n",
        "**Over time, what are the major production trends been across the states?**\n",
        "\n",
        "**Are there any patterns that can be observed between total honey production and value of production every year?**\n",
        "\n",
        "**How has value of production, which in some sense could be tied to demand, changed every year?**"
      ],
      "metadata": {
        "id": "Intda-BB8e-m"
      }
    },
    {
      "cell_type": "markdown",
      "source": [
        "<hr>\n",
        "\n",
        "# **Step 1 - Requirement Phase**\n",
        "  * **What do we need in the project>**"
      ],
      "metadata": {
        "id": "nXriAhMkVusz"
      }
    },
    {
      "cell_type": "code",
      "source": [
        "import numpy as np\n",
        "import pandas as pd\n",
        "import seaborn as sns\n",
        "import matplotlib.pyplot as plt"
      ],
      "metadata": {
        "id": "EA5mPNojV0h-"
      },
      "execution_count": null,
      "outputs": []
    },
    {
      "cell_type": "markdown",
      "source": [
        "<hr>\n",
        "\n",
        "# **Step 2 - Data Loading and Inspection Phase**"
      ],
      "metadata": {
        "id": "lCLIVcpyWcna"
      }
    },
    {
      "cell_type": "markdown",
      "source": [
        "**Data Loading**"
      ],
      "metadata": {
        "id": "G-vrv7rnWkML"
      }
    },
    {
      "cell_type": "code",
      "source": [
        "df = pd.read_csv(\"/content/US_honey_dataset.csv\")"
      ],
      "metadata": {
        "id": "-r0C0knCWEfC"
      },
      "execution_count": null,
      "outputs": []
    },
    {
      "cell_type": "markdown",
      "source": [
        "**Data Inspection**"
      ],
      "metadata": {
        "id": "_OuMB4VXWxSw"
      }
    },
    {
      "cell_type": "code",
      "source": [
        "# First view perspective ->\n",
        "df.head()"
      ],
      "metadata": {
        "colab": {
          "base_uri": "https://localhost:8080/",
          "height": 206
        },
        "id": "v05jdH2LWv8e",
        "outputId": "a8049a11-ee5e-4425-9012-75294767ed35"
      },
      "execution_count": null,
      "outputs": [
        {
          "output_type": "execute_result",
          "data": {
            "text/plain": [
              "   Unnamed: 0       state  colonies_number  yield_per_colony  production  \\\n",
              "0           0     Alabama            16000                58      928000   \n",
              "1           1     Arizona            52000                79     4108000   \n",
              "2           2    Arkansas            50000                60     3000000   \n",
              "3           3  California           420000                93    39060000   \n",
              "4           4    Colorado            45000                60     2700000   \n",
              "\n",
              "    stocks  average_price  value_of_production  year  \n",
              "0    28000           62.0               575000  1995  \n",
              "1   986000           68.0              2793000  1995  \n",
              "2   900000           64.0              1920000  1995  \n",
              "3  4687000           60.0             23436000  1995  \n",
              "4  1404000           68.0              1836000  1995  "
            ],
            "text/html": [
              "\n",
              "  <div id=\"df-83d72ebc-377e-4ab5-b176-cc748d62a102\" class=\"colab-df-container\">\n",
              "    <div>\n",
              "<style scoped>\n",
              "    .dataframe tbody tr th:only-of-type {\n",
              "        vertical-align: middle;\n",
              "    }\n",
              "\n",
              "    .dataframe tbody tr th {\n",
              "        vertical-align: top;\n",
              "    }\n",
              "\n",
              "    .dataframe thead th {\n",
              "        text-align: right;\n",
              "    }\n",
              "</style>\n",
              "<table border=\"1\" class=\"dataframe\">\n",
              "  <thead>\n",
              "    <tr style=\"text-align: right;\">\n",
              "      <th></th>\n",
              "      <th>Unnamed: 0</th>\n",
              "      <th>state</th>\n",
              "      <th>colonies_number</th>\n",
              "      <th>yield_per_colony</th>\n",
              "      <th>production</th>\n",
              "      <th>stocks</th>\n",
              "      <th>average_price</th>\n",
              "      <th>value_of_production</th>\n",
              "      <th>year</th>\n",
              "    </tr>\n",
              "  </thead>\n",
              "  <tbody>\n",
              "    <tr>\n",
              "      <th>0</th>\n",
              "      <td>0</td>\n",
              "      <td>Alabama</td>\n",
              "      <td>16000</td>\n",
              "      <td>58</td>\n",
              "      <td>928000</td>\n",
              "      <td>28000</td>\n",
              "      <td>62.0</td>\n",
              "      <td>575000</td>\n",
              "      <td>1995</td>\n",
              "    </tr>\n",
              "    <tr>\n",
              "      <th>1</th>\n",
              "      <td>1</td>\n",
              "      <td>Arizona</td>\n",
              "      <td>52000</td>\n",
              "      <td>79</td>\n",
              "      <td>4108000</td>\n",
              "      <td>986000</td>\n",
              "      <td>68.0</td>\n",
              "      <td>2793000</td>\n",
              "      <td>1995</td>\n",
              "    </tr>\n",
              "    <tr>\n",
              "      <th>2</th>\n",
              "      <td>2</td>\n",
              "      <td>Arkansas</td>\n",
              "      <td>50000</td>\n",
              "      <td>60</td>\n",
              "      <td>3000000</td>\n",
              "      <td>900000</td>\n",
              "      <td>64.0</td>\n",
              "      <td>1920000</td>\n",
              "      <td>1995</td>\n",
              "    </tr>\n",
              "    <tr>\n",
              "      <th>3</th>\n",
              "      <td>3</td>\n",
              "      <td>California</td>\n",
              "      <td>420000</td>\n",
              "      <td>93</td>\n",
              "      <td>39060000</td>\n",
              "      <td>4687000</td>\n",
              "      <td>60.0</td>\n",
              "      <td>23436000</td>\n",
              "      <td>1995</td>\n",
              "    </tr>\n",
              "    <tr>\n",
              "      <th>4</th>\n",
              "      <td>4</td>\n",
              "      <td>Colorado</td>\n",
              "      <td>45000</td>\n",
              "      <td>60</td>\n",
              "      <td>2700000</td>\n",
              "      <td>1404000</td>\n",
              "      <td>68.0</td>\n",
              "      <td>1836000</td>\n",
              "      <td>1995</td>\n",
              "    </tr>\n",
              "  </tbody>\n",
              "</table>\n",
              "</div>\n",
              "    <div class=\"colab-df-buttons\">\n",
              "\n",
              "  <div class=\"colab-df-container\">\n",
              "    <button class=\"colab-df-convert\" onclick=\"convertToInteractive('df-83d72ebc-377e-4ab5-b176-cc748d62a102')\"\n",
              "            title=\"Convert this dataframe to an interactive table.\"\n",
              "            style=\"display:none;\">\n",
              "\n",
              "  <svg xmlns=\"http://www.w3.org/2000/svg\" height=\"24px\" viewBox=\"0 -960 960 960\">\n",
              "    <path d=\"M120-120v-720h720v720H120Zm60-500h600v-160H180v160Zm220 220h160v-160H400v160Zm0 220h160v-160H400v160ZM180-400h160v-160H180v160Zm440 0h160v-160H620v160ZM180-180h160v-160H180v160Zm440 0h160v-160H620v160Z\"/>\n",
              "  </svg>\n",
              "    </button>\n",
              "\n",
              "  <style>\n",
              "    .colab-df-container {\n",
              "      display:flex;\n",
              "      gap: 12px;\n",
              "    }\n",
              "\n",
              "    .colab-df-convert {\n",
              "      background-color: #E8F0FE;\n",
              "      border: none;\n",
              "      border-radius: 50%;\n",
              "      cursor: pointer;\n",
              "      display: none;\n",
              "      fill: #1967D2;\n",
              "      height: 32px;\n",
              "      padding: 0 0 0 0;\n",
              "      width: 32px;\n",
              "    }\n",
              "\n",
              "    .colab-df-convert:hover {\n",
              "      background-color: #E2EBFA;\n",
              "      box-shadow: 0px 1px 2px rgba(60, 64, 67, 0.3), 0px 1px 3px 1px rgba(60, 64, 67, 0.15);\n",
              "      fill: #174EA6;\n",
              "    }\n",
              "\n",
              "    .colab-df-buttons div {\n",
              "      margin-bottom: 4px;\n",
              "    }\n",
              "\n",
              "    [theme=dark] .colab-df-convert {\n",
              "      background-color: #3B4455;\n",
              "      fill: #D2E3FC;\n",
              "    }\n",
              "\n",
              "    [theme=dark] .colab-df-convert:hover {\n",
              "      background-color: #434B5C;\n",
              "      box-shadow: 0px 1px 3px 1px rgba(0, 0, 0, 0.15);\n",
              "      filter: drop-shadow(0px 1px 2px rgba(0, 0, 0, 0.3));\n",
              "      fill: #FFFFFF;\n",
              "    }\n",
              "  </style>\n",
              "\n",
              "    <script>\n",
              "      const buttonEl =\n",
              "        document.querySelector('#df-83d72ebc-377e-4ab5-b176-cc748d62a102 button.colab-df-convert');\n",
              "      buttonEl.style.display =\n",
              "        google.colab.kernel.accessAllowed ? 'block' : 'none';\n",
              "\n",
              "      async function convertToInteractive(key) {\n",
              "        const element = document.querySelector('#df-83d72ebc-377e-4ab5-b176-cc748d62a102');\n",
              "        const dataTable =\n",
              "          await google.colab.kernel.invokeFunction('convertToInteractive',\n",
              "                                                    [key], {});\n",
              "        if (!dataTable) return;\n",
              "\n",
              "        const docLinkHtml = 'Like what you see? Visit the ' +\n",
              "          '<a target=\"_blank\" href=https://colab.research.google.com/notebooks/data_table.ipynb>data table notebook</a>'\n",
              "          + ' to learn more about interactive tables.';\n",
              "        element.innerHTML = '';\n",
              "        dataTable['output_type'] = 'display_data';\n",
              "        await google.colab.output.renderOutput(dataTable, element);\n",
              "        const docLink = document.createElement('div');\n",
              "        docLink.innerHTML = docLinkHtml;\n",
              "        element.appendChild(docLink);\n",
              "      }\n",
              "    </script>\n",
              "  </div>\n",
              "\n",
              "\n",
              "<div id=\"df-404ab3cc-7250-4e2c-a67d-634c3225d9a6\">\n",
              "  <button class=\"colab-df-quickchart\" onclick=\"quickchart('df-404ab3cc-7250-4e2c-a67d-634c3225d9a6')\"\n",
              "            title=\"Suggest charts\"\n",
              "            style=\"display:none;\">\n",
              "\n",
              "<svg xmlns=\"http://www.w3.org/2000/svg\" height=\"24px\"viewBox=\"0 0 24 24\"\n",
              "     width=\"24px\">\n",
              "    <g>\n",
              "        <path d=\"M19 3H5c-1.1 0-2 .9-2 2v14c0 1.1.9 2 2 2h14c1.1 0 2-.9 2-2V5c0-1.1-.9-2-2-2zM9 17H7v-7h2v7zm4 0h-2V7h2v10zm4 0h-2v-4h2v4z\"/>\n",
              "    </g>\n",
              "</svg>\n",
              "  </button>\n",
              "\n",
              "<style>\n",
              "  .colab-df-quickchart {\n",
              "      --bg-color: #E8F0FE;\n",
              "      --fill-color: #1967D2;\n",
              "      --hover-bg-color: #E2EBFA;\n",
              "      --hover-fill-color: #174EA6;\n",
              "      --disabled-fill-color: #AAA;\n",
              "      --disabled-bg-color: #DDD;\n",
              "  }\n",
              "\n",
              "  [theme=dark] .colab-df-quickchart {\n",
              "      --bg-color: #3B4455;\n",
              "      --fill-color: #D2E3FC;\n",
              "      --hover-bg-color: #434B5C;\n",
              "      --hover-fill-color: #FFFFFF;\n",
              "      --disabled-bg-color: #3B4455;\n",
              "      --disabled-fill-color: #666;\n",
              "  }\n",
              "\n",
              "  .colab-df-quickchart {\n",
              "    background-color: var(--bg-color);\n",
              "    border: none;\n",
              "    border-radius: 50%;\n",
              "    cursor: pointer;\n",
              "    display: none;\n",
              "    fill: var(--fill-color);\n",
              "    height: 32px;\n",
              "    padding: 0;\n",
              "    width: 32px;\n",
              "  }\n",
              "\n",
              "  .colab-df-quickchart:hover {\n",
              "    background-color: var(--hover-bg-color);\n",
              "    box-shadow: 0 1px 2px rgba(60, 64, 67, 0.3), 0 1px 3px 1px rgba(60, 64, 67, 0.15);\n",
              "    fill: var(--button-hover-fill-color);\n",
              "  }\n",
              "\n",
              "  .colab-df-quickchart-complete:disabled,\n",
              "  .colab-df-quickchart-complete:disabled:hover {\n",
              "    background-color: var(--disabled-bg-color);\n",
              "    fill: var(--disabled-fill-color);\n",
              "    box-shadow: none;\n",
              "  }\n",
              "\n",
              "  .colab-df-spinner {\n",
              "    border: 2px solid var(--fill-color);\n",
              "    border-color: transparent;\n",
              "    border-bottom-color: var(--fill-color);\n",
              "    animation:\n",
              "      spin 1s steps(1) infinite;\n",
              "  }\n",
              "\n",
              "  @keyframes spin {\n",
              "    0% {\n",
              "      border-color: transparent;\n",
              "      border-bottom-color: var(--fill-color);\n",
              "      border-left-color: var(--fill-color);\n",
              "    }\n",
              "    20% {\n",
              "      border-color: transparent;\n",
              "      border-left-color: var(--fill-color);\n",
              "      border-top-color: var(--fill-color);\n",
              "    }\n",
              "    30% {\n",
              "      border-color: transparent;\n",
              "      border-left-color: var(--fill-color);\n",
              "      border-top-color: var(--fill-color);\n",
              "      border-right-color: var(--fill-color);\n",
              "    }\n",
              "    40% {\n",
              "      border-color: transparent;\n",
              "      border-right-color: var(--fill-color);\n",
              "      border-top-color: var(--fill-color);\n",
              "    }\n",
              "    60% {\n",
              "      border-color: transparent;\n",
              "      border-right-color: var(--fill-color);\n",
              "    }\n",
              "    80% {\n",
              "      border-color: transparent;\n",
              "      border-right-color: var(--fill-color);\n",
              "      border-bottom-color: var(--fill-color);\n",
              "    }\n",
              "    90% {\n",
              "      border-color: transparent;\n",
              "      border-bottom-color: var(--fill-color);\n",
              "    }\n",
              "  }\n",
              "</style>\n",
              "\n",
              "  <script>\n",
              "    async function quickchart(key) {\n",
              "      const quickchartButtonEl =\n",
              "        document.querySelector('#' + key + ' button');\n",
              "      quickchartButtonEl.disabled = true;  // To prevent multiple clicks.\n",
              "      quickchartButtonEl.classList.add('colab-df-spinner');\n",
              "      try {\n",
              "        const charts = await google.colab.kernel.invokeFunction(\n",
              "            'suggestCharts', [key], {});\n",
              "      } catch (error) {\n",
              "        console.error('Error during call to suggestCharts:', error);\n",
              "      }\n",
              "      quickchartButtonEl.classList.remove('colab-df-spinner');\n",
              "      quickchartButtonEl.classList.add('colab-df-quickchart-complete');\n",
              "    }\n",
              "    (() => {\n",
              "      let quickchartButtonEl =\n",
              "        document.querySelector('#df-404ab3cc-7250-4e2c-a67d-634c3225d9a6 button');\n",
              "      quickchartButtonEl.style.display =\n",
              "        google.colab.kernel.accessAllowed ? 'block' : 'none';\n",
              "    })();\n",
              "  </script>\n",
              "</div>\n",
              "\n",
              "    </div>\n",
              "  </div>\n"
            ],
            "application/vnd.google.colaboratory.intrinsic+json": {
              "type": "dataframe",
              "variable_name": "df",
              "summary": "{\n  \"name\": \"df\",\n  \"rows\": 1115,\n  \"fields\": [\n    {\n      \"column\": \"Unnamed: 0\",\n      \"properties\": {\n        \"dtype\": \"number\",\n        \"std\": 322,\n        \"min\": 0,\n        \"max\": 1114,\n        \"num_unique_values\": 1115,\n        \"samples\": [\n          265,\n          101,\n          1045\n        ],\n        \"semantic_type\": \"\",\n        \"description\": \"\"\n      }\n    },\n    {\n      \"column\": \"state\",\n      \"properties\": {\n        \"dtype\": \"category\",\n        \"num_unique_values\": 44,\n        \"samples\": [\n          \"Utah\",\n          \"NewJersey\",\n          \"NewMexico\"\n        ],\n        \"semantic_type\": \"\",\n        \"description\": \"\"\n      }\n    },\n    {\n      \"column\": \"colonies_number\",\n      \"properties\": {\n        \"dtype\": \"number\",\n        \"std\": 92648,\n        \"min\": 2000,\n        \"max\": 550000,\n        \"num_unique_values\": 189,\n        \"samples\": [\n          101000,\n          490000,\n          106000\n        ],\n        \"semantic_type\": \"\",\n        \"description\": \"\"\n      }\n    },\n    {\n      \"column\": \"yield_per_colony\",\n      \"properties\": {\n        \"dtype\": \"number\",\n        \"std\": 19,\n        \"min\": 19,\n        \"max\": 155,\n        \"num_unique_values\": 104,\n        \"samples\": [\n          85,\n          98,\n          72\n        ],\n        \"semantic_type\": \"\",\n        \"description\": \"\"\n      }\n    },\n    {\n      \"column\": \"production\",\n      \"properties\": {\n        \"dtype\": \"number\",\n        \"std\": 5561202,\n        \"min\": 12000,\n        \"max\": 39060000,\n        \"num_unique_values\": 851,\n        \"samples\": [\n          854000,\n          32160000,\n          94000\n        ],\n        \"semantic_type\": \"\",\n        \"description\": \"\"\n      }\n    },\n    {\n      \"column\": \"stocks\",\n      \"properties\": {\n        \"dtype\": \"number\",\n        \"std\": 2049555,\n        \"min\": 9000,\n        \"max\": 13545000,\n        \"num_unique_values\": 752,\n        \"samples\": [\n          3604000,\n          1074000,\n          122000\n        ],\n        \"semantic_type\": \"\",\n        \"description\": \"\"\n      }\n    },\n    {\n      \"column\": \"average_price\",\n      \"properties\": {\n        \"dtype\": \"number\",\n        \"std\": 107.01154407830032,\n        \"min\": 1.3,\n        \"max\": 874.0,\n        \"num_unique_values\": 425,\n        \"samples\": [\n          3.4,\n          164.0,\n          332.0\n        ],\n        \"semantic_type\": \"\",\n        \"description\": \"\"\n      }\n    },\n    {\n      \"column\": \"value_of_production\",\n      \"properties\": {\n        \"dtype\": \"number\",\n        \"std\": 9459460,\n        \"min\": 106000,\n        \"max\": 83859000,\n        \"num_unique_values\": 1007,\n        \"samples\": [\n          1257000,\n          4629000,\n          838000\n        ],\n        \"semantic_type\": \"\",\n        \"description\": \"\"\n      }\n    },\n    {\n      \"column\": \"year\",\n      \"properties\": {\n        \"dtype\": \"number\",\n        \"std\": 7,\n        \"min\": 1995,\n        \"max\": 2021,\n        \"num_unique_values\": 27,\n        \"samples\": [\n          2003,\n          2008,\n          2004\n        ],\n        \"semantic_type\": \"\",\n        \"description\": \"\"\n      }\n    }\n  ]\n}"
            }
          },
          "metadata": {},
          "execution_count": 3
        }
      ]
    },
    {
      "cell_type": "markdown",
      "source": [
        "**Insights / Inference / Reference Points**\n",
        "  * **The column Unname: 0, it's not important to us**"
      ],
      "metadata": {
        "id": "wYwnHzW_XJoI"
      }
    },
    {
      "cell_type": "code",
      "source": [
        "df.tail()"
      ],
      "metadata": {
        "colab": {
          "base_uri": "https://localhost:8080/",
          "height": 206
        },
        "id": "0hyH5ZT5W9ES",
        "outputId": "4b6ad5bc-b3d5-4f2c-ccbb-a669c24b5299"
      },
      "execution_count": null,
      "outputs": [
        {
          "output_type": "execute_result",
          "data": {
            "text/plain": [
              "      Unnamed: 0         state  colonies_number  yield_per_colony  production  \\\n",
              "1110        1110      Virginia             6000                40       79000   \n",
              "1111        1111    Washington            96000                32     1206000   \n",
              "1112        1112  WestVirginia             6000                43      136000   \n",
              "1113        1113     Wisconsin            42000                47      750000   \n",
              "1114        1114       Wyoming            38000                58      242000   \n",
              "\n",
              "       stocks  average_price  value_of_production  year  \n",
              "1110    79000           8.23              1975000  2021  \n",
              "1111  1206000           2.52              7741000  2021  \n",
              "1112   136000           4.80              1238000  2021  \n",
              "1113   750000           2.81              5547000  2021  \n",
              "1114   242000           2.07              4562000  2021  "
            ],
            "text/html": [
              "\n",
              "  <div id=\"df-96525960-267f-4e9f-b9a8-e068deb4a5f9\" class=\"colab-df-container\">\n",
              "    <div>\n",
              "<style scoped>\n",
              "    .dataframe tbody tr th:only-of-type {\n",
              "        vertical-align: middle;\n",
              "    }\n",
              "\n",
              "    .dataframe tbody tr th {\n",
              "        vertical-align: top;\n",
              "    }\n",
              "\n",
              "    .dataframe thead th {\n",
              "        text-align: right;\n",
              "    }\n",
              "</style>\n",
              "<table border=\"1\" class=\"dataframe\">\n",
              "  <thead>\n",
              "    <tr style=\"text-align: right;\">\n",
              "      <th></th>\n",
              "      <th>Unnamed: 0</th>\n",
              "      <th>state</th>\n",
              "      <th>colonies_number</th>\n",
              "      <th>yield_per_colony</th>\n",
              "      <th>production</th>\n",
              "      <th>stocks</th>\n",
              "      <th>average_price</th>\n",
              "      <th>value_of_production</th>\n",
              "      <th>year</th>\n",
              "    </tr>\n",
              "  </thead>\n",
              "  <tbody>\n",
              "    <tr>\n",
              "      <th>1110</th>\n",
              "      <td>1110</td>\n",
              "      <td>Virginia</td>\n",
              "      <td>6000</td>\n",
              "      <td>40</td>\n",
              "      <td>79000</td>\n",
              "      <td>79000</td>\n",
              "      <td>8.23</td>\n",
              "      <td>1975000</td>\n",
              "      <td>2021</td>\n",
              "    </tr>\n",
              "    <tr>\n",
              "      <th>1111</th>\n",
              "      <td>1111</td>\n",
              "      <td>Washington</td>\n",
              "      <td>96000</td>\n",
              "      <td>32</td>\n",
              "      <td>1206000</td>\n",
              "      <td>1206000</td>\n",
              "      <td>2.52</td>\n",
              "      <td>7741000</td>\n",
              "      <td>2021</td>\n",
              "    </tr>\n",
              "    <tr>\n",
              "      <th>1112</th>\n",
              "      <td>1112</td>\n",
              "      <td>WestVirginia</td>\n",
              "      <td>6000</td>\n",
              "      <td>43</td>\n",
              "      <td>136000</td>\n",
              "      <td>136000</td>\n",
              "      <td>4.80</td>\n",
              "      <td>1238000</td>\n",
              "      <td>2021</td>\n",
              "    </tr>\n",
              "    <tr>\n",
              "      <th>1113</th>\n",
              "      <td>1113</td>\n",
              "      <td>Wisconsin</td>\n",
              "      <td>42000</td>\n",
              "      <td>47</td>\n",
              "      <td>750000</td>\n",
              "      <td>750000</td>\n",
              "      <td>2.81</td>\n",
              "      <td>5547000</td>\n",
              "      <td>2021</td>\n",
              "    </tr>\n",
              "    <tr>\n",
              "      <th>1114</th>\n",
              "      <td>1114</td>\n",
              "      <td>Wyoming</td>\n",
              "      <td>38000</td>\n",
              "      <td>58</td>\n",
              "      <td>242000</td>\n",
              "      <td>242000</td>\n",
              "      <td>2.07</td>\n",
              "      <td>4562000</td>\n",
              "      <td>2021</td>\n",
              "    </tr>\n",
              "  </tbody>\n",
              "</table>\n",
              "</div>\n",
              "    <div class=\"colab-df-buttons\">\n",
              "\n",
              "  <div class=\"colab-df-container\">\n",
              "    <button class=\"colab-df-convert\" onclick=\"convertToInteractive('df-96525960-267f-4e9f-b9a8-e068deb4a5f9')\"\n",
              "            title=\"Convert this dataframe to an interactive table.\"\n",
              "            style=\"display:none;\">\n",
              "\n",
              "  <svg xmlns=\"http://www.w3.org/2000/svg\" height=\"24px\" viewBox=\"0 -960 960 960\">\n",
              "    <path d=\"M120-120v-720h720v720H120Zm60-500h600v-160H180v160Zm220 220h160v-160H400v160Zm0 220h160v-160H400v160ZM180-400h160v-160H180v160Zm440 0h160v-160H620v160ZM180-180h160v-160H180v160Zm440 0h160v-160H620v160Z\"/>\n",
              "  </svg>\n",
              "    </button>\n",
              "\n",
              "  <style>\n",
              "    .colab-df-container {\n",
              "      display:flex;\n",
              "      gap: 12px;\n",
              "    }\n",
              "\n",
              "    .colab-df-convert {\n",
              "      background-color: #E8F0FE;\n",
              "      border: none;\n",
              "      border-radius: 50%;\n",
              "      cursor: pointer;\n",
              "      display: none;\n",
              "      fill: #1967D2;\n",
              "      height: 32px;\n",
              "      padding: 0 0 0 0;\n",
              "      width: 32px;\n",
              "    }\n",
              "\n",
              "    .colab-df-convert:hover {\n",
              "      background-color: #E2EBFA;\n",
              "      box-shadow: 0px 1px 2px rgba(60, 64, 67, 0.3), 0px 1px 3px 1px rgba(60, 64, 67, 0.15);\n",
              "      fill: #174EA6;\n",
              "    }\n",
              "\n",
              "    .colab-df-buttons div {\n",
              "      margin-bottom: 4px;\n",
              "    }\n",
              "\n",
              "    [theme=dark] .colab-df-convert {\n",
              "      background-color: #3B4455;\n",
              "      fill: #D2E3FC;\n",
              "    }\n",
              "\n",
              "    [theme=dark] .colab-df-convert:hover {\n",
              "      background-color: #434B5C;\n",
              "      box-shadow: 0px 1px 3px 1px rgba(0, 0, 0, 0.15);\n",
              "      filter: drop-shadow(0px 1px 2px rgba(0, 0, 0, 0.3));\n",
              "      fill: #FFFFFF;\n",
              "    }\n",
              "  </style>\n",
              "\n",
              "    <script>\n",
              "      const buttonEl =\n",
              "        document.querySelector('#df-96525960-267f-4e9f-b9a8-e068deb4a5f9 button.colab-df-convert');\n",
              "      buttonEl.style.display =\n",
              "        google.colab.kernel.accessAllowed ? 'block' : 'none';\n",
              "\n",
              "      async function convertToInteractive(key) {\n",
              "        const element = document.querySelector('#df-96525960-267f-4e9f-b9a8-e068deb4a5f9');\n",
              "        const dataTable =\n",
              "          await google.colab.kernel.invokeFunction('convertToInteractive',\n",
              "                                                    [key], {});\n",
              "        if (!dataTable) return;\n",
              "\n",
              "        const docLinkHtml = 'Like what you see? Visit the ' +\n",
              "          '<a target=\"_blank\" href=https://colab.research.google.com/notebooks/data_table.ipynb>data table notebook</a>'\n",
              "          + ' to learn more about interactive tables.';\n",
              "        element.innerHTML = '';\n",
              "        dataTable['output_type'] = 'display_data';\n",
              "        await google.colab.output.renderOutput(dataTable, element);\n",
              "        const docLink = document.createElement('div');\n",
              "        docLink.innerHTML = docLinkHtml;\n",
              "        element.appendChild(docLink);\n",
              "      }\n",
              "    </script>\n",
              "  </div>\n",
              "\n",
              "\n",
              "<div id=\"df-63832105-372f-4173-8bac-7b6d4cb51ec8\">\n",
              "  <button class=\"colab-df-quickchart\" onclick=\"quickchart('df-63832105-372f-4173-8bac-7b6d4cb51ec8')\"\n",
              "            title=\"Suggest charts\"\n",
              "            style=\"display:none;\">\n",
              "\n",
              "<svg xmlns=\"http://www.w3.org/2000/svg\" height=\"24px\"viewBox=\"0 0 24 24\"\n",
              "     width=\"24px\">\n",
              "    <g>\n",
              "        <path d=\"M19 3H5c-1.1 0-2 .9-2 2v14c0 1.1.9 2 2 2h14c1.1 0 2-.9 2-2V5c0-1.1-.9-2-2-2zM9 17H7v-7h2v7zm4 0h-2V7h2v10zm4 0h-2v-4h2v4z\"/>\n",
              "    </g>\n",
              "</svg>\n",
              "  </button>\n",
              "\n",
              "<style>\n",
              "  .colab-df-quickchart {\n",
              "      --bg-color: #E8F0FE;\n",
              "      --fill-color: #1967D2;\n",
              "      --hover-bg-color: #E2EBFA;\n",
              "      --hover-fill-color: #174EA6;\n",
              "      --disabled-fill-color: #AAA;\n",
              "      --disabled-bg-color: #DDD;\n",
              "  }\n",
              "\n",
              "  [theme=dark] .colab-df-quickchart {\n",
              "      --bg-color: #3B4455;\n",
              "      --fill-color: #D2E3FC;\n",
              "      --hover-bg-color: #434B5C;\n",
              "      --hover-fill-color: #FFFFFF;\n",
              "      --disabled-bg-color: #3B4455;\n",
              "      --disabled-fill-color: #666;\n",
              "  }\n",
              "\n",
              "  .colab-df-quickchart {\n",
              "    background-color: var(--bg-color);\n",
              "    border: none;\n",
              "    border-radius: 50%;\n",
              "    cursor: pointer;\n",
              "    display: none;\n",
              "    fill: var(--fill-color);\n",
              "    height: 32px;\n",
              "    padding: 0;\n",
              "    width: 32px;\n",
              "  }\n",
              "\n",
              "  .colab-df-quickchart:hover {\n",
              "    background-color: var(--hover-bg-color);\n",
              "    box-shadow: 0 1px 2px rgba(60, 64, 67, 0.3), 0 1px 3px 1px rgba(60, 64, 67, 0.15);\n",
              "    fill: var(--button-hover-fill-color);\n",
              "  }\n",
              "\n",
              "  .colab-df-quickchart-complete:disabled,\n",
              "  .colab-df-quickchart-complete:disabled:hover {\n",
              "    background-color: var(--disabled-bg-color);\n",
              "    fill: var(--disabled-fill-color);\n",
              "    box-shadow: none;\n",
              "  }\n",
              "\n",
              "  .colab-df-spinner {\n",
              "    border: 2px solid var(--fill-color);\n",
              "    border-color: transparent;\n",
              "    border-bottom-color: var(--fill-color);\n",
              "    animation:\n",
              "      spin 1s steps(1) infinite;\n",
              "  }\n",
              "\n",
              "  @keyframes spin {\n",
              "    0% {\n",
              "      border-color: transparent;\n",
              "      border-bottom-color: var(--fill-color);\n",
              "      border-left-color: var(--fill-color);\n",
              "    }\n",
              "    20% {\n",
              "      border-color: transparent;\n",
              "      border-left-color: var(--fill-color);\n",
              "      border-top-color: var(--fill-color);\n",
              "    }\n",
              "    30% {\n",
              "      border-color: transparent;\n",
              "      border-left-color: var(--fill-color);\n",
              "      border-top-color: var(--fill-color);\n",
              "      border-right-color: var(--fill-color);\n",
              "    }\n",
              "    40% {\n",
              "      border-color: transparent;\n",
              "      border-right-color: var(--fill-color);\n",
              "      border-top-color: var(--fill-color);\n",
              "    }\n",
              "    60% {\n",
              "      border-color: transparent;\n",
              "      border-right-color: var(--fill-color);\n",
              "    }\n",
              "    80% {\n",
              "      border-color: transparent;\n",
              "      border-right-color: var(--fill-color);\n",
              "      border-bottom-color: var(--fill-color);\n",
              "    }\n",
              "    90% {\n",
              "      border-color: transparent;\n",
              "      border-bottom-color: var(--fill-color);\n",
              "    }\n",
              "  }\n",
              "</style>\n",
              "\n",
              "  <script>\n",
              "    async function quickchart(key) {\n",
              "      const quickchartButtonEl =\n",
              "        document.querySelector('#' + key + ' button');\n",
              "      quickchartButtonEl.disabled = true;  // To prevent multiple clicks.\n",
              "      quickchartButtonEl.classList.add('colab-df-spinner');\n",
              "      try {\n",
              "        const charts = await google.colab.kernel.invokeFunction(\n",
              "            'suggestCharts', [key], {});\n",
              "      } catch (error) {\n",
              "        console.error('Error during call to suggestCharts:', error);\n",
              "      }\n",
              "      quickchartButtonEl.classList.remove('colab-df-spinner');\n",
              "      quickchartButtonEl.classList.add('colab-df-quickchart-complete');\n",
              "    }\n",
              "    (() => {\n",
              "      let quickchartButtonEl =\n",
              "        document.querySelector('#df-63832105-372f-4173-8bac-7b6d4cb51ec8 button');\n",
              "      quickchartButtonEl.style.display =\n",
              "        google.colab.kernel.accessAllowed ? 'block' : 'none';\n",
              "    })();\n",
              "  </script>\n",
              "</div>\n",
              "\n",
              "    </div>\n",
              "  </div>\n"
            ],
            "application/vnd.google.colaboratory.intrinsic+json": {
              "type": "dataframe",
              "summary": "{\n  \"name\": \"df\",\n  \"rows\": 5,\n  \"fields\": [\n    {\n      \"column\": \"Unnamed: 0\",\n      \"properties\": {\n        \"dtype\": \"number\",\n        \"std\": 1,\n        \"min\": 1110,\n        \"max\": 1114,\n        \"num_unique_values\": 5,\n        \"samples\": [\n          1111,\n          1114,\n          1112\n        ],\n        \"semantic_type\": \"\",\n        \"description\": \"\"\n      }\n    },\n    {\n      \"column\": \"state\",\n      \"properties\": {\n        \"dtype\": \"string\",\n        \"num_unique_values\": 5,\n        \"samples\": [\n          \"Washington\",\n          \"Wyoming\",\n          \"WestVirginia\"\n        ],\n        \"semantic_type\": \"\",\n        \"description\": \"\"\n      }\n    },\n    {\n      \"column\": \"colonies_number\",\n      \"properties\": {\n        \"dtype\": \"number\",\n        \"std\": 36834,\n        \"min\": 6000,\n        \"max\": 96000,\n        \"num_unique_values\": 4,\n        \"samples\": [\n          96000,\n          38000,\n          6000\n        ],\n        \"semantic_type\": \"\",\n        \"description\": \"\"\n      }\n    },\n    {\n      \"column\": \"yield_per_colony\",\n      \"properties\": {\n        \"dtype\": \"number\",\n        \"std\": 9,\n        \"min\": 32,\n        \"max\": 58,\n        \"num_unique_values\": 5,\n        \"samples\": [\n          32,\n          58,\n          43\n        ],\n        \"semantic_type\": \"\",\n        \"description\": \"\"\n      }\n    },\n    {\n      \"column\": \"production\",\n      \"properties\": {\n        \"dtype\": \"number\",\n        \"std\": 483663,\n        \"min\": 79000,\n        \"max\": 1206000,\n        \"num_unique_values\": 5,\n        \"samples\": [\n          1206000,\n          242000,\n          136000\n        ],\n        \"semantic_type\": \"\",\n        \"description\": \"\"\n      }\n    },\n    {\n      \"column\": \"stocks\",\n      \"properties\": {\n        \"dtype\": \"number\",\n        \"std\": 483663,\n        \"min\": 79000,\n        \"max\": 1206000,\n        \"num_unique_values\": 5,\n        \"samples\": [\n          1206000,\n          242000,\n          136000\n        ],\n        \"semantic_type\": \"\",\n        \"description\": \"\"\n      }\n    },\n    {\n      \"column\": \"average_price\",\n      \"properties\": {\n        \"dtype\": \"number\",\n        \"std\": 2.5410293189965363,\n        \"min\": 2.07,\n        \"max\": 8.23,\n        \"num_unique_values\": 5,\n        \"samples\": [\n          2.52,\n          2.07,\n          4.8\n        ],\n        \"semantic_type\": \"\",\n        \"description\": \"\"\n      }\n    },\n    {\n      \"column\": \"value_of_production\",\n      \"properties\": {\n        \"dtype\": \"number\",\n        \"std\": 2655532,\n        \"min\": 1238000,\n        \"max\": 7741000,\n        \"num_unique_values\": 5,\n        \"samples\": [\n          7741000,\n          4562000,\n          1238000\n        ],\n        \"semantic_type\": \"\",\n        \"description\": \"\"\n      }\n    },\n    {\n      \"column\": \"year\",\n      \"properties\": {\n        \"dtype\": \"number\",\n        \"std\": 0,\n        \"min\": 2021,\n        \"max\": 2021,\n        \"num_unique_values\": 1,\n        \"samples\": [\n          2021\n        ],\n        \"semantic_type\": \"\",\n        \"description\": \"\"\n      }\n    }\n  ]\n}"
            }
          },
          "metadata": {},
          "execution_count": 4
        }
      ]
    },
    {
      "cell_type": "markdown",
      "source": [
        "<hr>\n",
        "\n",
        "**Shape Inspection**"
      ],
      "metadata": {
        "id": "YtPxq0_bYzsY"
      }
    },
    {
      "cell_type": "code",
      "source": [
        "a = df.shape\n",
        "print(f\"Rows: {a[0]} and Columns: {a[1]}\")"
      ],
      "metadata": {
        "colab": {
          "base_uri": "https://localhost:8080/"
        },
        "id": "RZjHB4h8X8mB",
        "outputId": "94ec5406-0171-40ae-d0d4-2408e4243d00"
      },
      "execution_count": null,
      "outputs": [
        {
          "output_type": "stream",
          "name": "stdout",
          "text": [
            "Rows: 1115 and Columns: 9\n"
          ]
        }
      ]
    },
    {
      "cell_type": "markdown",
      "source": [
        "<hr>\n",
        "\n",
        "**Brief on the data**"
      ],
      "metadata": {
        "id": "nlDXpORwa2Yu"
      }
    },
    {
      "cell_type": "code",
      "source": [
        "df.info()"
      ],
      "metadata": {
        "colab": {
          "base_uri": "https://localhost:8080/"
        },
        "id": "sLHTusGsZ6P_",
        "outputId": "d1fb126a-2529-426e-9559-9b22b4de0ba4"
      },
      "execution_count": null,
      "outputs": [
        {
          "output_type": "stream",
          "name": "stdout",
          "text": [
            "<class 'pandas.core.frame.DataFrame'>\n",
            "RangeIndex: 1115 entries, 0 to 1114\n",
            "Data columns (total 9 columns):\n",
            " #   Column               Non-Null Count  Dtype  \n",
            "---  ------               --------------  -----  \n",
            " 0   Unnamed: 0           1115 non-null   int64  \n",
            " 1   state                1115 non-null   object \n",
            " 2   colonies_number      1115 non-null   int64  \n",
            " 3   yield_per_colony     1115 non-null   int64  \n",
            " 4   production           1115 non-null   int64  \n",
            " 5   stocks               1115 non-null   int64  \n",
            " 6   average_price        1115 non-null   float64\n",
            " 7   value_of_production  1115 non-null   int64  \n",
            " 8   year                 1115 non-null   int64  \n",
            "dtypes: float64(1), int64(7), object(1)\n",
            "memory usage: 78.5+ KB\n"
          ]
        }
      ]
    },
    {
      "cell_type": "markdown",
      "source": [
        "* **The unnamed column can dropped, as there is no need to the columns**\n",
        "* **Most of my data is numerical nature**\n",
        "* **The year columns needs to be worked on for conversion of dtype into object or date**"
      ],
      "metadata": {
        "id": "PhzD63ovbeel"
      }
    },
    {
      "cell_type": "code",
      "source": [
        "# Dropping the unnname column\n",
        "df = df.drop(\"Unnamed: 0\", axis = 1)"
      ],
      "metadata": {
        "id": "Ebd0b7B3bUE3"
      },
      "execution_count": null,
      "outputs": []
    },
    {
      "cell_type": "markdown",
      "source": [
        "<hr>\n",
        "\n",
        "# **Step 3 - Data Preprocessing**"
      ],
      "metadata": {
        "id": "68q9P5mVcz_i"
      }
    },
    {
      "cell_type": "markdown",
      "source": [
        "**Null Values**"
      ],
      "metadata": {
        "id": "qSvZo8FJdXPd"
      }
    },
    {
      "cell_type": "code",
      "source": [
        "df.isnull().sum()"
      ],
      "metadata": {
        "colab": {
          "base_uri": "https://localhost:8080/"
        },
        "id": "pis0B03heCLP",
        "outputId": "a78ee29a-d6cb-427d-c678-f9adbd7989d9"
      },
      "execution_count": null,
      "outputs": [
        {
          "output_type": "execute_result",
          "data": {
            "text/plain": [
              "state                  0\n",
              "colonies_number        0\n",
              "yield_per_colony       0\n",
              "production             0\n",
              "stocks                 0\n",
              "average_price          0\n",
              "value_of_production    0\n",
              "year                   0\n",
              "dtype: int64"
            ]
          },
          "metadata": {},
          "execution_count": 10
        }
      ]
    },
    {
      "cell_type": "markdown",
      "source": [
        "**Duplicates**"
      ],
      "metadata": {
        "id": "Vbf6xnzrdZgC"
      }
    },
    {
      "cell_type": "code",
      "source": [
        "df.duplicated()"
      ],
      "metadata": {
        "colab": {
          "base_uri": "https://localhost:8080/"
        },
        "id": "BeEMHODtgNIa",
        "outputId": "00fd0c09-bea4-45cc-f73a-0474d9034b4b"
      },
      "execution_count": null,
      "outputs": [
        {
          "output_type": "execute_result",
          "data": {
            "text/plain": [
              "0       False\n",
              "1       False\n",
              "2       False\n",
              "3       False\n",
              "4       False\n",
              "        ...  \n",
              "1110    False\n",
              "1111    False\n",
              "1112    False\n",
              "1113    False\n",
              "1114    False\n",
              "Length: 1115, dtype: bool"
            ]
          },
          "metadata": {},
          "execution_count": 14
        }
      ]
    },
    {
      "cell_type": "markdown",
      "source": [
        "<hr>\n",
        "\n",
        "# **Step 4 - Exploratory Data Analysis (EDA) / Deep Analysis**"
      ],
      "metadata": {
        "id": "ZqaaYRm3rqnB"
      }
    },
    {
      "cell_type": "markdown",
      "source": [
        "<hr>\n",
        "\n",
        "* **How many states were involved in this business?**"
      ],
      "metadata": {
        "id": "Fcf7iP2Gs7i0"
      }
    },
    {
      "cell_type": "code",
      "source": [
        "df[\"state\"].unique() # return array of the elements"
      ],
      "metadata": {
        "colab": {
          "base_uri": "https://localhost:8080/"
        },
        "id": "4yRl3NnCgrWx",
        "outputId": "8d7a918f-28a9-492a-ab51-a73c695437ed"
      },
      "execution_count": null,
      "outputs": [
        {
          "output_type": "execute_result",
          "data": {
            "text/plain": [
              "array(['Alabama', 'Arizona', 'Arkansas', 'California', 'Colorado',\n",
              "       'Florida', 'Georgia', 'Hawaii', 'Idaho', 'Illinois', 'Indiana',\n",
              "       'Iowa', 'Kansas', 'Kentucky', 'Louisiana', 'Maine', 'Maryland',\n",
              "       'Michigan', 'Minnesota', 'Mississippi', 'Missouri', 'Montana',\n",
              "       'Nebraska', 'Nevada', 'NewJersey', 'NewMexico', 'NewYork',\n",
              "       'NorthCarolina', 'NorthDakota', 'Ohio', 'Oklahoma', 'Oregon',\n",
              "       'Pennsylvania', 'SouthCarolina', 'SouthDakota', 'Tennessee',\n",
              "       'Texas', 'Utah', 'Vermont', 'Virginia', 'Washington',\n",
              "       'WestVirginia', 'Wisconsin', 'Wyoming'], dtype=object)"
            ]
          },
          "metadata": {},
          "execution_count": 15
        }
      ]
    },
    {
      "cell_type": "code",
      "source": [
        "df[\"state\"].nunique() #->"
      ],
      "metadata": {
        "colab": {
          "base_uri": "https://localhost:8080/"
        },
        "id": "gnaLcj2vjbZU",
        "outputId": "781198d3-56ae-49a3-af95-130d8a4018b9"
      },
      "execution_count": null,
      "outputs": [
        {
          "output_type": "execute_result",
          "data": {
            "text/plain": [
              "44"
            ]
          },
          "metadata": {},
          "execution_count": 19
        }
      ]
    },
    {
      "cell_type": "markdown",
      "source": [
        "<hr>\n",
        "\n",
        "**What is the tenure of the data that we are look on?**"
      ],
      "metadata": {
        "id": "J3omGsDYtbzx"
      }
    },
    {
      "cell_type": "code",
      "source": [
        "df[\"year\"].unique()"
      ],
      "metadata": {
        "colab": {
          "base_uri": "https://localhost:8080/"
        },
        "id": "9bcqQBXJjvZj",
        "outputId": "2a47eca2-0527-4dda-b842-3ffcd8249e22"
      },
      "execution_count": null,
      "outputs": [
        {
          "output_type": "execute_result",
          "data": {
            "text/plain": [
              "array([1995, 1996, 1997, 1998, 1999, 2000, 2001, 2002, 2003, 2004, 2005,\n",
              "       2006, 2007, 2008, 2009, 2010, 2011, 2012, 2013, 2014, 2015, 2016,\n",
              "       2017, 2018, 2019, 2020, 2021])"
            ]
          },
          "metadata": {},
          "execution_count": 20
        }
      ]
    },
    {
      "cell_type": "code",
      "source": [
        "df[\"year\"].max() - df[\"year\"].min()"
      ],
      "metadata": {
        "colab": {
          "base_uri": "https://localhost:8080/"
        },
        "id": "5ECnFc96kwYM",
        "outputId": "57c2dab9-6f8d-41d6-b0b8-d440deb3854c"
      },
      "execution_count": null,
      "outputs": [
        {
          "output_type": "execute_result",
          "data": {
            "text/plain": [
              "26"
            ]
          },
          "metadata": {},
          "execution_count": 21
        }
      ]
    },
    {
      "cell_type": "markdown",
      "source": [
        "**Which were the states that were having the highest production**"
      ],
      "metadata": {
        "id": "WoPuzhxqusgk"
      }
    },
    {
      "cell_type": "code",
      "source": [
        "df.groupby(\"state\")[\"production\"].sum().sort_values(ascending = False)"
      ],
      "metadata": {
        "colab": {
          "base_uri": "https://localhost:8080/"
        },
        "id": "vpL6Chl5k1iv",
        "outputId": "b79510f4-e1c0-4c8e-e89e-cff5a697fe18"
      },
      "execution_count": null,
      "outputs": [
        {
          "output_type": "execute_result",
          "data": {
            "text/plain": [
              "state\n",
              "NorthDakota      513742000\n",
              "California       423876000\n",
              "SouthDakota      355726000\n",
              "Florida          280934000\n",
              "Montana          197173000\n",
              "Minnesota        176581000\n",
              "Texas            129441000\n",
              "Michigan         101063000\n",
              "Wisconsin         99909000\n",
              "Idaho             87188000\n",
              "NewYork           78444000\n",
              "Nebraska          63655000\n",
              "Louisiana         60568000\n",
              "Georgia           57426000\n",
              "Washington        53238000\n",
              "Arkansas          51846000\n",
              "Iowa              48607000\n",
              "Wyoming           43921000\n",
              "Oregon            43789000\n",
              "Arizona           38844000\n",
              "Colorado          32660000\n",
              "Ohio              22485000\n",
              "Pennsylvania      21370000\n",
              "Mississippi       21235000\n",
              "Utah              20369000\n",
              "Missouri          17904000\n",
              "Hawaii            15420000\n",
              "Alabama           14467000\n",
              "Kansas            14138000\n",
              "NewMexico         10082000\n",
              "Illinois           9864000\n",
              "Indiana            9686000\n",
              "NorthCarolina      8909000\n",
              "Nevada             7399000\n",
              "Vermont            7032000\n",
              "NewJersey          6913000\n",
              "Tennessee          6857000\n",
              "WestVirginia       6411000\n",
              "Virginia           5153000\n",
              "Maine              4762000\n",
              "Kentucky           3224000\n",
              "SouthCarolina      2823000\n",
              "Oklahoma           2055000\n",
              "Maryland           1975000\n",
              "Name: production, dtype: int64"
            ]
          },
          "metadata": {},
          "execution_count": 22
        }
      ]
    },
    {
      "cell_type": "markdown",
      "source": [
        "**The climate in the top production state would have been very adequate for honey production, that is the reason why the production are very high (Assumption)**"
      ],
      "metadata": {
        "id": "NZCRvr4imC5t"
      }
    },
    {
      "cell_type": "markdown",
      "source": [
        "Graphical Analysis"
      ],
      "metadata": {
        "id": "PucYM7k0mRan"
      }
    },
    {
      "cell_type": "code",
      "source": [
        "plt.figure(figsize = (10, 8))\n",
        "df.groupby(\"state\")[\"production\"].sum().sort_values(ascending = False).plot(kind = \"bar\")\n",
        "plt.xlabel(\"States\")\n",
        "plt.show()"
      ],
      "metadata": {
        "colab": {
          "base_uri": "https://localhost:8080/",
          "height": 795
        },
        "id": "a_7XuA96loAU",
        "outputId": "582313bb-f886-48d1-eb9c-b6798d5a3d06"
      },
      "execution_count": null,
      "outputs": [
        {
          "output_type": "display_data",
          "data": {
            "text/plain": [
              "<Figure size 1000x800 with 1 Axes>"
            ],
            "image/png": "[encoded data removed]"
          },
          "metadata": {}
        }
      ]
    },
    {
      "cell_type": "markdown",
      "source": [
        "**NorthDakota is the one leading, and MaryLand is the one having least production**"
      ],
      "metadata": {
        "id": "0ljMSxLPzQ8V"
      }
    },
    {
      "cell_type": "markdown",
      "source": [
        "<hr>\n",
        "\n",
        "**Analysing the trend in the data**"
      ],
      "metadata": {
        "id": "xXOKAQsNzb2j"
      }
    },
    {
      "cell_type": "code",
      "source": [
        "trend_data = df.drop(\"state\", axis = 1).groupby(\"year\").mean()"
      ],
      "metadata": {
        "id": "n5ZbUh_hnqd8"
      },
      "execution_count": null,
      "outputs": []
    },
    {
      "cell_type": "code",
      "source": [
        "trend_data.head()"
      ],
      "metadata": {
        "colab": {
          "base_uri": "https://localhost:8080/",
          "height": 237
        },
        "id": "4TNwA77nn2dl",
        "outputId": "f6945046-6035-4280-a4fe-f0bdb8029999"
      },
      "execution_count": null,
      "outputs": [
        {
          "output_type": "execute_result",
          "data": {
            "text/plain": [
              "      colonies_number  yield_per_colony    production        stocks  \\\n",
              "year                                                                  \n",
              "1995     59977.272727         66.909091  4.778909e+06  9.575000e+05   \n",
              "1996     58181.818182         70.068182  4.499886e+06  1.066455e+06   \n",
              "1997     59651.162791         68.953488  4.445953e+06  1.601256e+06   \n",
              "1998     60883.720930         69.953488  5.100488e+06  1.871488e+06   \n",
              "1999     62186.046512         65.465116  4.757791e+06  1.839698e+06   \n",
              "\n",
              "      average_price  value_of_production  \n",
              "year                                      \n",
              "1995      74.840909         3.121000e+06  \n",
              "1996      99.568182         4.085773e+06  \n",
              "1997      91.325581         3.386000e+06  \n",
              "1998      83.720930         3.395302e+06  \n",
              "1999      80.325581         2.888070e+06  "
            ],
            "text/html": [
              "\n",
              "  <div id=\"df-1a4b59d7-cf94-4759-a431-8b4d0cfca4ef\" class=\"colab-df-container\">\n",
              "    <div>\n",
              "<style scoped>\n",
              "    .dataframe tbody tr th:only-of-type {\n",
              "        vertical-align: middle;\n",
              "    }\n",
              "\n",
              "    .dataframe tbody tr th {\n",
              "        vertical-align: top;\n",
              "    }\n",
              "\n",
              "    .dataframe thead th {\n",
              "        text-align: right;\n",
              "    }\n",
              "</style>\n",
              "<table border=\"1\" class=\"dataframe\">\n",
              "  <thead>\n",
              "    <tr style=\"text-align: right;\">\n",
              "      <th></th>\n",
              "      <th>colonies_number</th>\n",
              "      <th>yield_per_colony</th>\n",
              "      <th>production</th>\n",
              "      <th>stocks</th>\n",
              "      <th>average_price</th>\n",
              "      <th>value_of_production</th>\n",
              "    </tr>\n",
              "    <tr>\n",
              "      <th>year</th>\n",
              "      <th></th>\n",
              "      <th></th>\n",
              "      <th></th>\n",
              "      <th></th>\n",
              "      <th></th>\n",
              "      <th></th>\n",
              "    </tr>\n",
              "  </thead>\n",
              "  <tbody>\n",
              "    <tr>\n",
              "      <th>1995</th>\n",
              "      <td>59977.272727</td>\n",
              "      <td>66.909091</td>\n",
              "      <td>4.778909e+06</td>\n",
              "      <td>9.575000e+05</td>\n",
              "      <td>74.840909</td>\n",
              "      <td>3.121000e+06</td>\n",
              "    </tr>\n",
              "    <tr>\n",
              "      <th>1996</th>\n",
              "      <td>58181.818182</td>\n",
              "      <td>70.068182</td>\n",
              "      <td>4.499886e+06</td>\n",
              "      <td>1.066455e+06</td>\n",
              "      <td>99.568182</td>\n",
              "      <td>4.085773e+06</td>\n",
              "    </tr>\n",
              "    <tr>\n",
              "      <th>1997</th>\n",
              "      <td>59651.162791</td>\n",
              "      <td>68.953488</td>\n",
              "      <td>4.445953e+06</td>\n",
              "      <td>1.601256e+06</td>\n",
              "      <td>91.325581</td>\n",
              "      <td>3.386000e+06</td>\n",
              "    </tr>\n",
              "    <tr>\n",
              "      <th>1998</th>\n",
              "      <td>60883.720930</td>\n",
              "      <td>69.953488</td>\n",
              "      <td>5.100488e+06</td>\n",
              "      <td>1.871488e+06</td>\n",
              "      <td>83.720930</td>\n",
              "      <td>3.395302e+06</td>\n",
              "    </tr>\n",
              "    <tr>\n",
              "      <th>1999</th>\n",
              "      <td>62186.046512</td>\n",
              "      <td>65.465116</td>\n",
              "      <td>4.757791e+06</td>\n",
              "      <td>1.839698e+06</td>\n",
              "      <td>80.325581</td>\n",
              "      <td>2.888070e+06</td>\n",
              "    </tr>\n",
              "  </tbody>\n",
              "</table>\n",
              "</div>\n",
              "    <div class=\"colab-df-buttons\">\n",
              "\n",
              "  <div class=\"colab-df-container\">\n",
              "    <button class=\"colab-df-convert\" onclick=\"convertToInteractive('df-1a4b59d7-cf94-4759-a431-8b4d0cfca4ef')\"\n",
              "            title=\"Convert this dataframe to an interactive table.\"\n",
              "            style=\"display:none;\">\n",
              "\n",
              "  <svg xmlns=\"http://www.w3.org/2000/svg\" height=\"24px\" viewBox=\"0 -960 960 960\">\n",
              "    <path d=\"M120-120v-720h720v720H120Zm60-500h600v-160H180v160Zm220 220h160v-160H400v160Zm0 220h160v-160H400v160ZM180-400h160v-160H180v160Zm440 0h160v-160H620v160ZM180-180h160v-160H180v160Zm440 0h160v-160H620v160Z\"/>\n",
              "  </svg>\n",
              "    </button>\n",
              "\n",
              "  <style>\n",
              "    .colab-df-container {\n",
              "      display:flex;\n",
              "      gap: 12px;\n",
              "    }\n",
              "\n",
              "    .colab-df-convert {\n",
              "      background-color: #E8F0FE;\n",
              "      border: none;\n",
              "      border-radius: 50%;\n",
              "      cursor: pointer;\n",
              "      display: none;\n",
              "      fill: #1967D2;\n",
              "      height: 32px;\n",
              "      padding: 0 0 0 0;\n",
              "      width: 32px;\n",
              "    }\n",
              "\n",
              "    .colab-df-convert:hover {\n",
              "      background-color: #E2EBFA;\n",
              "      box-shadow: 0px 1px 2px rgba(60, 64, 67, 0.3), 0px 1px 3px 1px rgba(60, 64, 67, 0.15);\n",
              "      fill: #174EA6;\n",
              "    }\n",
              "\n",
              "    .colab-df-buttons div {\n",
              "      margin-bottom: 4px;\n",
              "    }\n",
              "\n",
              "    [theme=dark] .colab-df-convert {\n",
              "      background-color: #3B4455;\n",
              "      fill: #D2E3FC;\n",
              "    }\n",
              "\n",
              "    [theme=dark] .colab-df-convert:hover {\n",
              "      background-color: #434B5C;\n",
              "      box-shadow: 0px 1px 3px 1px rgba(0, 0, 0, 0.15);\n",
              "      filter: drop-shadow(0px 1px 2px rgba(0, 0, 0, 0.3));\n",
              "      fill: #FFFFFF;\n",
              "    }\n",
              "  </style>\n",
              "\n",
              "    <script>\n",
              "      const buttonEl =\n",
              "        document.querySelector('#df-1a4b59d7-cf94-4759-a431-8b4d0cfca4ef button.colab-df-convert');\n",
              "      buttonEl.style.display =\n",
              "        google.colab.kernel.accessAllowed ? 'block' : 'none';\n",
              "\n",
              "      async function convertToInteractive(key) {\n",
              "        const element = document.querySelector('#df-1a4b59d7-cf94-4759-a431-8b4d0cfca4ef');\n",
              "        const dataTable =\n",
              "          await google.colab.kernel.invokeFunction('convertToInteractive',\n",
              "                                                    [key], {});\n",
              "        if (!dataTable) return;\n",
              "\n",
              "        const docLinkHtml = 'Like what you see? Visit the ' +\n",
              "          '<a target=\"_blank\" href=https://colab.research.google.com/notebooks/data_table.ipynb>data table notebook</a>'\n",
              "          + ' to learn more about interactive tables.';\n",
              "        element.innerHTML = '';\n",
              "        dataTable['output_type'] = 'display_data';\n",
              "        await google.colab.output.renderOutput(dataTable, element);\n",
              "        const docLink = document.createElement('div');\n",
              "        docLink.innerHTML = docLinkHtml;\n",
              "        element.appendChild(docLink);\n",
              "      }\n",
              "    </script>\n",
              "  </div>\n",
              "\n",
              "\n",
              "<div id=\"df-1fa5ee60-a1c3-4608-ba70-156a9b695e67\">\n",
              "  <button class=\"colab-df-quickchart\" onclick=\"quickchart('df-1fa5ee60-a1c3-4608-ba70-156a9b695e67')\"\n",
              "            title=\"Suggest charts\"\n",
              "            style=\"display:none;\">\n",
              "\n",
              "<svg xmlns=\"http://www.w3.org/2000/svg\" height=\"24px\"viewBox=\"0 0 24 24\"\n",
              "     width=\"24px\">\n",
              "    <g>\n",
              "        <path d=\"M19 3H5c-1.1 0-2 .9-2 2v14c0 1.1.9 2 2 2h14c1.1 0 2-.9 2-2V5c0-1.1-.9-2-2-2zM9 17H7v-7h2v7zm4 0h-2V7h2v10zm4 0h-2v-4h2v4z\"/>\n",
              "    </g>\n",
              "</svg>\n",
              "  </button>\n",
              "\n",
              "<style>\n",
              "  .colab-df-quickchart {\n",
              "      --bg-color: #E8F0FE;\n",
              "      --fill-color: #1967D2;\n",
              "      --hover-bg-color: #E2EBFA;\n",
              "      --hover-fill-color: #174EA6;\n",
              "      --disabled-fill-color: #AAA;\n",
              "      --disabled-bg-color: #DDD;\n",
              "  }\n",
              "\n",
              "  [theme=dark] .colab-df-quickchart {\n",
              "      --bg-color: #3B4455;\n",
              "      --fill-color: #D2E3FC;\n",
              "      --hover-bg-color: #434B5C;\n",
              "      --hover-fill-color: #FFFFFF;\n",
              "      --disabled-bg-color: #3B4455;\n",
              "      --disabled-fill-color: #666;\n",
              "  }\n",
              "\n",
              "  .colab-df-quickchart {\n",
              "    background-color: var(--bg-color);\n",
              "    border: none;\n",
              "    border-radius: 50%;\n",
              "    cursor: pointer;\n",
              "    display: none;\n",
              "    fill: var(--fill-color);\n",
              "    height: 32px;\n",
              "    padding: 0;\n",
              "    width: 32px;\n",
              "  }\n",
              "\n",
              "  .colab-df-quickchart:hover {\n",
              "    background-color: var(--hover-bg-color);\n",
              "    box-shadow: 0 1px 2px rgba(60, 64, 67, 0.3), 0 1px 3px 1px rgba(60, 64, 67, 0.15);\n",
              "    fill: var(--button-hover-fill-color);\n",
              "  }\n",
              "\n",
              "  .colab-df-quickchart-complete:disabled,\n",
              "  .colab-df-quickchart-complete:disabled:hover {\n",
              "    background-color: var(--disabled-bg-color);\n",
              "    fill: var(--disabled-fill-color);\n",
              "    box-shadow: none;\n",
              "  }\n",
              "\n",
              "  .colab-df-spinner {\n",
              "    border: 2px solid var(--fill-color);\n",
              "    border-color: transparent;\n",
              "    border-bottom-color: var(--fill-color);\n",
              "    animation:\n",
              "      spin 1s steps(1) infinite;\n",
              "  }\n",
              "\n",
              "  @keyframes spin {\n",
              "    0% {\n",
              "      border-color: transparent;\n",
              "      border-bottom-color: var(--fill-color);\n",
              "      border-left-color: var(--fill-color);\n",
              "    }\n",
              "    20% {\n",
              "      border-color: transparent;\n",
              "      border-left-color: var(--fill-color);\n",
              "      border-top-color: var(--fill-color);\n",
              "    }\n",
              "    30% {\n",
              "      border-color: transparent;\n",
              "      border-left-color: var(--fill-color);\n",
              "      border-top-color: var(--fill-color);\n",
              "      border-right-color: var(--fill-color);\n",
              "    }\n",
              "    40% {\n",
              "      border-color: transparent;\n",
              "      border-right-color: var(--fill-color);\n",
              "      border-top-color: var(--fill-color);\n",
              "    }\n",
              "    60% {\n",
              "      border-color: transparent;\n",
              "      border-right-color: var(--fill-color);\n",
              "    }\n",
              "    80% {\n",
              "      border-color: transparent;\n",
              "      border-right-color: var(--fill-color);\n",
              "      border-bottom-color: var(--fill-color);\n",
              "    }\n",
              "    90% {\n",
              "      border-color: transparent;\n",
              "      border-bottom-color: var(--fill-color);\n",
              "    }\n",
              "  }\n",
              "</style>\n",
              "\n",
              "  <script>\n",
              "    async function quickchart(key) {\n",
              "      const quickchartButtonEl =\n",
              "        document.querySelector('#' + key + ' button');\n",
              "      quickchartButtonEl.disabled = true;  // To prevent multiple clicks.\n",
              "      quickchartButtonEl.classList.add('colab-df-spinner');\n",
              "      try {\n",
              "        const charts = await google.colab.kernel.invokeFunction(\n",
              "            'suggestCharts', [key], {});\n",
              "      } catch (error) {\n",
              "        console.error('Error during call to suggestCharts:', error);\n",
              "      }\n",
              "      quickchartButtonEl.classList.remove('colab-df-spinner');\n",
              "      quickchartButtonEl.classList.add('colab-df-quickchart-complete');\n",
              "    }\n",
              "    (() => {\n",
              "      let quickchartButtonEl =\n",
              "        document.querySelector('#df-1fa5ee60-a1c3-4608-ba70-156a9b695e67 button');\n",
              "      quickchartButtonEl.style.display =\n",
              "        google.colab.kernel.accessAllowed ? 'block' : 'none';\n",
              "    })();\n",
              "  </script>\n",
              "</div>\n",
              "\n",
              "    </div>\n",
              "  </div>\n"
            ],
            "application/vnd.google.colaboratory.intrinsic+json": {
              "type": "dataframe",
              "variable_name": "trend_data",
              "summary": "{\n  \"name\": \"trend_data\",\n  \"rows\": 27,\n  \"fields\": [\n    {\n      \"column\": \"year\",\n      \"properties\": {\n        \"dtype\": \"number\",\n        \"std\": 7,\n        \"min\": 1995,\n        \"max\": 2021,\n        \"num_unique_values\": 27,\n        \"samples\": [\n          2003,\n          2008,\n          2004\n        ],\n        \"semantic_type\": \"\",\n        \"description\": \"\"\n      }\n    },\n    {\n      \"column\": \"colonies_number\",\n      \"properties\": {\n        \"dtype\": \"number\",\n        \"std\": 4242.689945317925,\n        \"min\": 55756.09756097561,\n        \"max\": 69800.0,\n        \"num_unique_values\": 27,\n        \"samples\": [\n          58681.818181818184,\n          55756.09756097561,\n          63325.0\n        ],\n        \"semantic_type\": \"\",\n        \"description\": \"\"\n      }\n    },\n    {\n      \"column\": \"yield_per_colony\",\n      \"properties\": {\n        \"dtype\": \"number\",\n        \"std\": 6.915873450409498,\n        \"min\": 46.7,\n        \"max\": 70.06818181818181,\n        \"num_unique_values\": 27,\n        \"samples\": [\n          62.52272727272727,\n          61.0,\n          65.025\n        ],\n        \"semantic_type\": \"\",\n        \"description\": \"\"\n      }\n    },\n    {\n      \"column\": \"production\",\n      \"properties\": {\n        \"dtype\": \"number\",\n        \"std\": 1761325.9971355773,\n        \"min\": 579675.0,\n        \"max\": 5123720.930232558,\n        \"num_unique_values\": 27,\n        \"samples\": [\n          4107750.0,\n          3904780.487804878,\n          4559475.0\n        ],\n        \"semantic_type\": \"\",\n        \"description\": \"\"\n      }\n    },\n    {\n      \"column\": \"stocks\",\n      \"properties\": {\n        \"dtype\": \"number\",\n        \"std\": 373168.06517378753,\n        \"min\": 579675.0,\n        \"max\": 1997395.3488372094,\n        \"num_unique_values\": 27,\n        \"samples\": [\n          922022.7272727273,\n          1227195.1219512196,\n          1523100.0\n        ],\n        \"semantic_type\": \"\",\n        \"description\": \"\"\n      }\n    },\n    {\n      \"column\": \"average_price\",\n      \"properties\": {\n        \"dtype\": \"number\",\n        \"std\": 92.91057522365392,\n        \"min\": 2.9255,\n        \"max\": 302.775,\n        \"num_unique_values\": 27,\n        \"samples\": [\n          151.0681818181818,\n          160.8780487804878,\n          132.35\n        ],\n        \"semantic_type\": \"\",\n        \"description\": \"\"\n      }\n    },\n    {\n      \"column\": \"value_of_production\",\n      \"properties\": {\n        \"dtype\": \"number\",\n        \"std\": 2115663.5702389413,\n        \"min\": 2888069.7674418604,\n        \"max\": 9612075.0,\n        \"num_unique_values\": 27,\n        \"samples\": [\n          5791659.090909091,\n          5466170.731707317,\n          4976100.0\n        ],\n        \"semantic_type\": \"\",\n        \"description\": \"\"\n      }\n    }\n  ]\n}"
            }
          },
          "metadata": {},
          "execution_count": 25
        }
      ]
    },
    {
      "cell_type": "markdown",
      "source": [
        "**Trend on Colony Number**"
      ],
      "metadata": {
        "id": "b3X6pDG3oGDl"
      }
    },
    {
      "cell_type": "code",
      "source": [
        "sns.pointplot(trend_data[\"colonies_number\"])\n",
        "plt.xticks(rotation = 90)\n",
        "plt.show()"
      ],
      "metadata": {
        "colab": {
          "base_uri": "https://localhost:8080/",
          "height": 471
        },
        "id": "rJ0N-eKFn3z1",
        "outputId": "b91fc6ce-6506-4f72-dd22-6bb078686f72"
      },
      "execution_count": null,
      "outputs": [
        {
          "output_type": "display_data",
          "data": {
            "text/plain": [
              "<Figure size 640x480 with 1 Axes>"
            ],
            "image/png": "[encoded data removed]"
          },
          "metadata": {}
        }
      ]
    },
    {
      "cell_type": "markdown",
      "source": [
        "**In between the year 2004 to 2008, there colony collapse disorder was at peak, but by the start of 2009, the number of colony again started increasing. And this year could be also marked as one of the year having highest number of colonies as compared to previous ones**"
      ],
      "metadata": {
        "id": "THTdPh5OpVV3"
      }
    },
    {
      "cell_type": "code",
      "source": [
        "sns.pointplot(trend_data[\"production\"])\n",
        "plt.xticks(rotation = 90)\n",
        "plt.show()"
      ],
      "metadata": {
        "colab": {
          "base_uri": "https://localhost:8080/",
          "height": 486
        },
        "id": "nWRu2gQiogwl",
        "outputId": "7f8f0330-72d0-4de0-a271-85a0cf205bdf"
      },
      "execution_count": null,
      "outputs": [
        {
          "output_type": "display_data",
          "data": {
            "text/plain": [
              "<Figure size 640x480 with 1 Axes>"
            ],
            "image/png": "[encoded data removed]"
          },
          "metadata": {}
        }
      ]
    },
    {
      "cell_type": "code",
      "source": [],
      "metadata": {
        "id": "ffQaRz8Hpzp6"
      },
      "execution_count": null,
      "outputs": []
    }
  ]
}